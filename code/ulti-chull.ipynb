{
 "cells": [
  {
   "cell_type": "markdown",
   "metadata": {},
   "source": [
    "# The Ultimate Planar Convex Hull Algorithm\n",
    "\n",
    "This notebook implement the algorithm from \"The Ultimate Planar Convex Hull Algorithm\" by D. Kirkpatrick and R. Seidel in 1986. The running time is $O(n \\log h)$, where $n$ is a number of input points and $h$ is a number of output edges."
   ]
  },
  {
   "cell_type": "code",
   "execution_count": 1,
   "metadata": {},
   "outputs": [],
   "source": [
    "from random import randint\n",
    "from collections import namedtuple\n",
    "\n"
   ]
  },
  {
   "cell_type": "markdown",
   "metadata": {},
   "source": [
    "### Sample input with random points in shape of circle."
   ]
  },
  {
   "cell_type": "code",
   "execution_count": 2,
   "metadata": {
    "scrolled": false
   },
   "outputs": [
    {
     "name": "stdout",
     "output_type": "stream",
     "text": [
      "{Point(x=-15.639299513471565, y=-1.5749373246988085),\n",
      " Point(x=-15.357158815042107, y=1.1793444747238588),\n",
      " Point(x=-14.308869466644731, y=-7.697786666665838),\n",
      " Point(x=-12.941392875626052, y=12.49297423252657),\n",
      " Point(x=-12.277300895775557, y=-3.3620204732156367),\n",
      " Point(x=-11.910370093644298, y=0.593380561557634),\n",
      " Point(x=-11.83075465473005, y=-2.1021372394305935),\n",
      " Point(x=-10.65043353920354, y=-4.879947076443102),\n",
      " Point(x=-10.41073881727716, y=7.27847305836141),\n",
      " Point(x=-7.026561501198, y=15.898593659856772),\n",
      " Point(x=-6.604589971965105, y=-14.940947803655376),\n",
      " Point(x=-5.797130305071022, y=-13.268729953376063),\n",
      " Point(x=-3.868362334247486, y=-2.618856426094311),\n",
      " Point(x=-3.3606242332088065, y=16.574677187292423),\n",
      " Point(x=-2.4593265752920175, y=-15.466363022545725),\n",
      " Point(x=-2.411465130079165, y=17.72041218465447),\n",
      " Point(x=-1.8050906881180317, y=-11.555534250983746),\n",
      " Point(x=-1.544738842674569, y=13.711032885925),\n",
      " Point(x=-0.20013445625638582, y=-10.059714243539574),\n",
      " Point(x=0.20580737578159614, y=0.48886332548161704),\n",
      " Point(x=0.934929466485034, y=-16.13699207051679),\n",
      " Point(x=0.9987607636737117, y=-9.25939321185008),\n",
      " Point(x=1.5163489075834562, y=-15.97112691618583),\n",
      " Point(x=1.6980113664811753, y=-7.954572128085893),\n",
      " Point(x=1.9091520166566127, y=-6.119356669409068),\n",
      " Point(x=1.9306462723091364, y=16.00378441994944),\n",
      " Point(x=1.99108679285591, y=19.496565200256256),\n",
      " Point(x=2.4937740217105784, y=7.073355732835974),\n",
      " Point(x=4.071723288856472, y=-11.744474368447149),\n",
      " Point(x=6.310606585593494, y=12.18126701053351),\n",
      " Point(x=7.919821659625459, y=-9.003294448520256),\n",
      " Point(x=7.961359641011569, y=9.25859489412963),\n",
      " Point(x=8.894547781717371, y=-2.658260778998226),\n",
      " Point(x=9.297996941775452, y=7.5195869274143625),\n",
      " Point(x=10.127504409734186, y=9.957378817328994),\n",
      " Point(x=11.922374368323418, y=11.827931517868564),\n",
      " Point(x=12.663390743044609, y=-10.494734714229539),\n",
      " Point(x=13.73640533414023, y=-11.11988971122086),\n",
      " Point(x=15.697453542731594, y=-6.929099835398391),\n",
      " Point(x=15.870235319862296, y=7.5123572594491925),\n",
      " Point(x=16.655734795268046, y=9.262240951601363),\n",
      " Point(x=17.81742791037925, y=-1.6227526236395171)}\n"
     ]
    }
   ],
   "source": [
    "from random import uniform\n",
    "from pprint import pprint\n",
    "\n",
    "sample = 50\n",
    "radius = 20\n",
    "points = {Point(uniform(-radius, radius), uniform(-radius, radius)) for _ in range(sample)}\n",
    "points = {p for p in points if p.x**2 + p.y**2 <= radius**2}\n",
    "pprint(points)"
   ]
  },
  {
   "cell_type": "markdown",
   "metadata": {},
   "source": [
    "### Output of the convex hull algorithm."
   ]
  },
  {
   "cell_type": "code",
   "execution_count": 3,
   "metadata": {},
   "outputs": [
    {
     "name": "stdout",
     "output_type": "stream",
     "text": [
      "[Point(x=-15.639299513471565, y=-1.5749373246988085),\n",
      " Point(x=-15.357158815042107, y=1.1793444747238588),\n",
      " Point(x=-12.941392875626052, y=12.49297423252657),\n",
      " Point(x=-7.026561501198, y=15.898593659856772),\n",
      " Point(x=1.99108679285591, y=19.496565200256256),\n",
      " Point(x=16.655734795268046, y=9.262240951601363),\n",
      " Point(x=17.81742791037925, y=-1.6227526236395171),\n",
      " Point(x=15.697453542731594, y=-6.929099835398391),\n",
      " Point(x=13.73640533414023, y=-11.11988971122086),\n",
      " Point(x=1.5163489075834562, y=-15.97112691618583),\n",
      " Point(x=0.934929466485034, y=-16.13699207051679),\n",
      " Point(x=-6.604589971965105, y=-14.940947803655376),\n",
      " Point(x=-14.308869466644731, y=-7.697786666665838)]\n"
     ]
    }
   ],
   "source": [
    "answer = convex_hull(points)\n",
    "pprint(answer)"
   ]
  },
  {
   "cell_type": "markdown",
   "metadata": {},
   "source": [
    "### The output in a picture."
   ]
  },
  {
   "cell_type": "code",
   "execution_count": 4,
   "metadata": {},
   "outputs": [],
   "source": [
    "import matplotlib.pyplot as plt"
   ]
  },
  {
   "cell_type": "code",
   "execution_count": 5,
   "metadata": {
    "scrolled": false
   },
   "outputs": [
    {
     "data": {
      "image/png": "[encoded data removed]",
      "text/plain": [
       "<matplotlib.figure.Figure at 0x7f3880a4ccc0>"
      ]
     },
     "metadata": {},
     "output_type": "display_data"
    }
   ],
   "source": [
    "plt.scatter([p.x for p in points], [p.y for p in points])\n",
    "plt.plot(*( pair for a, b in zip(answer, answer[1:]+answer[:1])\n",
    "                 for pair in [(a.x, b.x), (a.y, b.y)] ))\n",
    "plt.show()"
   ]
  }
 ],
 "metadata": {
  "kernelspec": {
   "display_name": "Python 3",
   "language": "python",
   "name": "python3"
  },
  "language_info": {
   "codemirror_mode": {
    "name": "ipython",
    "version": 3
   },
   "file_extension": ".py",
   "mimetype": "text/x-python",
   "name": "python",
   "nbconvert_exporter": "python",
   "pygments_lexer": "ipython3",
   "version": "3.6.5"
  }
 },
 "nbformat": 4,
 "nbformat_minor": 2
}